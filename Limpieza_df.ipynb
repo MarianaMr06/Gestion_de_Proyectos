{
 "cells": [
  {
   "cell_type": "code",
   "execution_count": 1,
   "metadata": {},
   "outputs": [],
   "source": [
    "#Librerías\n",
    "import pandas as pd\n",
    "import numpy as np"
   ]
  },
  {
   "cell_type": "code",
   "execution_count": 2,
   "metadata": {},
   "outputs": [],
   "source": [
    "#Archivos\n",
    "credicel = pd.read_excel(\"df_limpio.xlsx\")"
   ]
  },
  {
   "cell_type": "code",
   "execution_count": 4,
   "metadata": {},
   "outputs": [
    {
     "name": "stdout",
     "output_type": "stream",
     "text": [
      "<class 'pandas.core.frame.DataFrame'>\n",
      "RangeIndex: 22735 entries, 0 to 22734\n",
      "Data columns (total 39 columns):\n",
      " #   Column              Non-Null Count  Dtype         \n",
      "---  ------              --------------  -----         \n",
      " 0   folio               22735 non-null  int64         \n",
      " 1   tag                 22735 non-null  object        \n",
      " 2   folio_solicitud     22735 non-null  int64         \n",
      " 3   fecha               22735 non-null  datetime64[ns]\n",
      " 4   marca               22735 non-null  object        \n",
      " 5   modelo              22735 non-null  object        \n",
      " 6   plazo               22735 non-null  object        \n",
      " 7   precio              22735 non-null  float64       \n",
      " 8   enganche            22735 non-null  float64       \n",
      " 9   descuento           22735 non-null  float64       \n",
      " 10  semana              22735 non-null  int64         \n",
      " 11  monto_financiado    22735 non-null  float64       \n",
      " 12  costo_total         22735 non-null  int64         \n",
      " 13  monto_accesorios    22735 non-null  float64       \n",
      " 14  agente_venta        22735 non-null  object        \n",
      " 15  dis_venta           22735 non-null  object        \n",
      " 16  status              22735 non-null  int64         \n",
      " 17  fraude              22735 non-null  int64         \n",
      " 18  empresa             22722 non-null  object        \n",
      " 19  inversion           22735 non-null  int64         \n",
      " 20  pagos_realizados    22735 non-null  int64         \n",
      " 21  reautorizacion      22735 non-null  int64         \n",
      " 22  fecha_ultimo_pago   19379 non-null  datetime64[ns]\n",
      " 23  fecha_pago_proximo  19379 non-null  datetime64[ns]\n",
      " 24  status_cuenta       19421 non-null  object        \n",
      " 25  puntos              22735 non-null  int64         \n",
      " 26  riesgo              22735 non-null  float64       \n",
      " 27  score_buro          22735 non-null  int64         \n",
      " 28  razones_buro        15395 non-null  object        \n",
      " 29  porc_eng            22735 non-null  float64       \n",
      " 30  limite_credito      22735 non-null  int64         \n",
      " 31  semana_actual       22735 non-null  int64         \n",
      " 32  cp_cliente          15492 non-null  object        \n",
      " 33  edad_cliente        9627 non-null   float64       \n",
      " 34  cd_cliente          22735 non-null  object        \n",
      " 35  edo_cliente         22735 non-null  object        \n",
      " 36  cd_venta            22735 non-null  object        \n",
      " 37  edo_venta           22735 non-null  object        \n",
      " 38  curp                22735 non-null  object        \n",
      "dtypes: datetime64[ns](3), float64(8), int64(13), object(15)\n",
      "memory usage: 6.8+ MB\n",
      "None\n",
      "folio                     0\n",
      "tag                       0\n",
      "folio_solicitud           0\n",
      "fecha                     0\n",
      "marca                     0\n",
      "modelo                    0\n",
      "plazo                     0\n",
      "precio                    0\n",
      "enganche                  0\n",
      "descuento                 0\n",
      "semana                    0\n",
      "monto_financiado          0\n",
      "costo_total               0\n",
      "monto_accesorios          0\n",
      "agente_venta              0\n",
      "dis_venta                 0\n",
      "status                    0\n",
      "fraude                    0\n",
      "empresa                  13\n",
      "inversion                 0\n",
      "pagos_realizados          0\n",
      "reautorizacion            0\n",
      "fecha_ultimo_pago      3356\n",
      "fecha_pago_proximo     3356\n",
      "status_cuenta          3314\n",
      "puntos                    0\n",
      "riesgo                    0\n",
      "score_buro                0\n",
      "razones_buro           7340\n",
      "porc_eng                  0\n",
      "limite_credito            0\n",
      "semana_actual             0\n",
      "cp_cliente             7243\n",
      "edad_cliente          13108\n",
      "cd_cliente                0\n",
      "edo_cliente               0\n",
      "cd_venta                  0\n",
      "edo_venta                 0\n",
      "curp                      0\n",
      "dtype: int64\n"
     ]
    }
   ],
   "source": [
    "print(credicel.info())\n",
    "print(credicel.isnull().sum())"
   ]
  },
  {
   "cell_type": "markdown",
   "metadata": {},
   "source": [
    "* Empresa\n",
    "* fecha_ultimo_pagp\n",
    "* fecha_pago_proximo\n",
    "* status_cuenta\n",
    "* razones_buro\n",
    "* cp_cliente\n",
    "* edad_cliente"
   ]
  },
  {
   "cell_type": "code",
   "execution_count": 7,
   "metadata": {},
   "outputs": [],
   "source": [
    "#Sin información\n",
    "    #Empresa\n",
    "    #Status_cuenta\n",
    "    #Razones_buro\n",
    "    #cp_cliente\n",
    "\n",
    "columnas_sin_informacion = [\"empresa\", \"status_cuenta\", \"razones_buro\", \"cp_cliente\"]\n",
    "credicel[columnas_sin_informacion] = credicel[columnas_sin_informacion].fillna(\"Sin Información\")"
   ]
  },
  {
   "cell_type": "code",
   "execution_count": 11,
   "metadata": {},
   "outputs": [
    {
     "name": "stderr",
     "output_type": "stream",
     "text": [
      "C:\\Users\\maria\\AppData\\Local\\Temp\\ipykernel_8068\\2839155167.py:5: FutureWarning: DataFrame.fillna with 'method' is deprecated and will raise in a future version. Use obj.ffill() or obj.bfill() instead.\n",
      "  credicel[columnas_fechas] = credicel[columnas_fechas].fillna(method = \"bfill\")\n"
     ]
    }
   ],
   "source": [
    "#Backward\n",
    "    #fecha_ultimo_pago\n",
    "    #fecha_proximo_pago\n",
    "columnas_fechas = [\"fecha_ultimo_pago\", \"fecha_pago_proximo\"]\n",
    "credicel[columnas_fechas] = credicel[columnas_fechas].fillna(method = \"bfill\")"
   ]
  },
  {
   "cell_type": "code",
   "execution_count": 12,
   "metadata": {},
   "outputs": [],
   "source": [
    "#Mediana\n",
    "    #edad_cliente\n",
    "credicel[\"edad_cliente\"] = credicel[\"edad_cliente\"].fillna(credicel[\"edad_cliente\"].median())"
   ]
  },
  {
   "cell_type": "code",
   "execution_count": 13,
   "metadata": {},
   "outputs": [
    {
     "data": {
      "text/plain": [
       "0"
      ]
     },
     "execution_count": 13,
     "metadata": {},
     "output_type": "execute_result"
    }
   ],
   "source": [
    "#Verificación\n",
    "credicel.isnull().sum().sum()"
   ]
  },
  {
   "cell_type": "code",
   "execution_count": 15,
   "metadata": {},
   "outputs": [],
   "source": [
    "#Se guarda\n",
    "credicel.to_csv(\"CREDICEL_LIMPIO.CSV\", index = False)"
   ]
  }
 ],
 "metadata": {
  "kernelspec": {
   "display_name": "Python 3",
   "language": "python",
   "name": "python3"
  },
  "language_info": {
   "codemirror_mode": {
    "name": "ipython",
    "version": 3
   },
   "file_extension": ".py",
   "mimetype": "text/x-python",
   "name": "python",
   "nbconvert_exporter": "python",
   "pygments_lexer": "ipython3",
   "version": "3.11.4"
  }
 },
 "nbformat": 4,
 "nbformat_minor": 2
}
